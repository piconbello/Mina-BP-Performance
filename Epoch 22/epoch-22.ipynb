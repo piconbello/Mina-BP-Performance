{
 "cells": [
  {
   "cell_type": "code",
   "execution_count": 1,
   "id": "8ff8b803",
   "metadata": {},
   "outputs": [],
   "source": [
    "%matplotlib inline\n",
    "%load_ext blackcellmagic\n",
    "%load_ext autoreload\n",
    "%autoreload 2"
   ]
  },
  {
   "cell_type": "code",
   "execution_count": 2,
   "id": "61d997ca",
   "metadata": {},
   "outputs": [],
   "source": [
    "import pickle\n",
    "import seaborn as sns\n",
    "import matplotlib.pyplot as plt\n",
    "\n",
    "from scipy.stats import binom\n",
    "import pandas as pd\n",
    "import numpy as np\n",
    "\n",
    "from minavrfpy import lib"
   ]
  },
  {
   "cell_type": "markdown",
   "id": "f1e3d196",
   "metadata": {},
   "source": [
    "## single epoch"
   ]
  },
  {
   "cell_type": "code",
   "execution_count": 3,
   "id": "54d2da3f",
   "metadata": {},
   "outputs": [],
   "source": [
    "epoch = 22\n",
    "bp_key = \"B62qrQiw9JhUumq457sMxicgQ94Z1WD9JChzJu19kBE8Szb5T8tcUAC\"\n",
    "\n",
    "results = lib.get_epoch_df(epoch, block_producer_key=bp_key)\n",
    "\n",
    "df = results['df']\n",
    "stakes_df = results['stakes_df']"
   ]
  },
  {
   "cell_type": "markdown",
   "id": "a925542b",
   "metadata": {},
   "source": [
    "## outcome per epoch"
   ]
  },
  {
   "cell_type": "code",
   "execution_count": 4,
   "id": "58a5ba86",
   "metadata": {},
   "outputs": [
    {
     "data": {
      "image/png": "[encoded data removed]",
      "text/plain": [
       "<Figure size 576x360 with 1 Axes>"
      ]
     },
     "metadata": {},
     "output_type": "display_data"
    }
   ],
   "source": [
    "sns.set(rc={\"figure.figsize\": (8, 5)})\n",
    "\n",
    "\n",
    "counts_df = (\n",
    "    df.groupby(\"epoch\")\n",
    "    .outcome.value_counts()\n",
    "    .to_frame()\n",
    "    .rename(columns={\"outcome\": \"outcome_count\"})\n",
    "    .reset_index()\n",
    ")\n",
    "\n",
    "ax = sns.barplot(x=\"epoch\", y=\"outcome_count\", data=counts_df, hue=\"outcome\")\n",
    "ax.set_title(\"All Slots\")\n",
    "for container in ax.containers:\n",
    "    ax.bar_label(container)"
   ]
  },
  {
   "cell_type": "markdown",
   "id": "e9813d2d",
   "metadata": {},
   "source": [
    "## outcome grouped by super_charged"
   ]
  },
  {
   "cell_type": "code",
   "execution_count": 5,
   "id": "c91da8fe",
   "metadata": {},
   "outputs": [
    {
     "data": {
      "text/plain": [
       "epoch  super_charged  outcome        \n",
       "22     False          WON                 5\n",
       "                      LOST                2\n",
       "                      MISSED_TOO_LATE     1\n",
       "       True           WON                22\n",
       "                      LOST                5\n",
       "Name: outcome, dtype: int64"
      ]
     },
     "execution_count": 5,
     "metadata": {},
     "output_type": "execute_result"
    }
   ],
   "source": [
    "df.groupby([\"epoch\", \"super_charged\"]).outcome.value_counts()"
   ]
  },
  {
   "cell_type": "code",
   "execution_count": 6,
   "id": "daa243ea",
   "metadata": {},
   "outputs": [
    {
     "data": {
      "image/png": "[encoded data removed]",
      "text/plain": [
       "<Figure size 576x360 with 1 Axes>"
      ]
     },
     "metadata": {},
     "output_type": "display_data"
    }
   ],
   "source": [
    "sns.set(rc={\"figure.figsize\": (8, 5)})\n",
    "\n",
    "\n",
    "counts_df = (\n",
    "    df[df.super_charged == True].groupby(\"epoch\")\n",
    "    .outcome.value_counts()\n",
    "    .to_frame()\n",
    "    .rename(columns={\"outcome\": \"outcome_count\"})\n",
    "    .reset_index()\n",
    ")\n",
    "\n",
    "ax = sns.barplot(x=\"epoch\", y=\"outcome_count\", data=counts_df, hue=\"outcome\")\n",
    "ax.set_title(\"Supercharged Slots\")\n",
    "for container in ax.containers:\n",
    "    ax.bar_label(container)"
   ]
  },
  {
   "cell_type": "code",
   "execution_count": 7,
   "id": "5babe6c5",
   "metadata": {},
   "outputs": [
    {
     "data": {
      "text/html": [
       "<div>\n",
       "<style scoped>\n",
       "    .dataframe tbody tr th:only-of-type {\n",
       "        vertical-align: middle;\n",
       "    }\n",
       "\n",
       "    .dataframe tbody tr th {\n",
       "        vertical-align: top;\n",
       "    }\n",
       "\n",
       "    .dataframe thead th {\n",
       "        text-align: right;\n",
       "    }\n",
       "</style>\n",
       "<table border=\"1\" class=\"dataframe\">\n",
       "  <thead>\n",
       "    <tr style=\"text-align: right;\">\n",
       "      <th></th>\n",
       "      <th>epoch</th>\n",
       "      <th>slot</th>\n",
       "      <th>global_slot</th>\n",
       "      <th>block</th>\n",
       "      <th>winner_exists</th>\n",
       "      <th>saw_my_producer</th>\n",
       "      <th>bp_won</th>\n",
       "      <th>block_time</th>\n",
       "      <th>received_time</th>\n",
       "      <th>winner_pk</th>\n",
       "      <th>super_charged</th>\n",
       "      <th>block_height_equal</th>\n",
       "      <th>too_late</th>\n",
       "      <th>min_bt</th>\n",
       "      <th>min_bt_minutes</th>\n",
       "      <th>outcome</th>\n",
       "      <th>next_block_in</th>\n",
       "    </tr>\n",
       "  </thead>\n",
       "  <tbody>\n",
       "  </tbody>\n",
       "</table>\n",
       "</div>"
      ],
      "text/plain": [
       "Empty DataFrame\n",
       "Columns: [epoch, slot, global_slot, block, winner_exists, saw_my_producer, bp_won, block_time, received_time, winner_pk, super_charged, block_height_equal, too_late, min_bt, min_bt_minutes, outcome, next_block_in]\n",
       "Index: []"
      ]
     },
     "execution_count": 7,
     "metadata": {},
     "output_type": "execute_result"
    }
   ],
   "source": [
    "df[df.outcome == \"MISSED_NOT_PRODUCED\"]"
   ]
  },
  {
   "cell_type": "code",
   "execution_count": 8,
   "id": "d6d5965f",
   "metadata": {},
   "outputs": [
    {
     "data": {
      "text/html": [
       "<div>\n",
       "<style scoped>\n",
       "    .dataframe tbody tr th:only-of-type {\n",
       "        vertical-align: middle;\n",
       "    }\n",
       "\n",
       "    .dataframe tbody tr th {\n",
       "        vertical-align: top;\n",
       "    }\n",
       "\n",
       "    .dataframe thead th {\n",
       "        text-align: right;\n",
       "    }\n",
       "</style>\n",
       "<table border=\"1\" class=\"dataframe\">\n",
       "  <thead>\n",
       "    <tr style=\"text-align: right;\">\n",
       "      <th></th>\n",
       "      <th>epoch</th>\n",
       "      <th>slot</th>\n",
       "      <th>global_slot</th>\n",
       "      <th>block</th>\n",
       "      <th>winner_exists</th>\n",
       "      <th>saw_my_producer</th>\n",
       "      <th>bp_won</th>\n",
       "      <th>block_time</th>\n",
       "      <th>received_time</th>\n",
       "      <th>winner_pk</th>\n",
       "      <th>super_charged</th>\n",
       "      <th>block_height_equal</th>\n",
       "      <th>too_late</th>\n",
       "      <th>min_bt</th>\n",
       "      <th>min_bt_minutes</th>\n",
       "      <th>outcome</th>\n",
       "      <th>next_block_in</th>\n",
       "    </tr>\n",
       "  </thead>\n",
       "  <tbody>\n",
       "  </tbody>\n",
       "</table>\n",
       "</div>"
      ],
      "text/plain": [
       "Empty DataFrame\n",
       "Columns: [epoch, slot, global_slot, block, winner_exists, saw_my_producer, bp_won, block_time, received_time, winner_pk, super_charged, block_height_equal, too_late, min_bt, min_bt_minutes, outcome, next_block_in]\n",
       "Index: []"
      ]
     },
     "execution_count": 8,
     "metadata": {},
     "output_type": "execute_result"
    }
   ],
   "source": [
    "df[df.outcome == \"MISSED_HEIGHT_DIFF\"]"
   ]
  },
  {
   "cell_type": "code",
   "execution_count": 9,
   "id": "3bf79c60",
   "metadata": {},
   "outputs": [
    {
     "data": {
      "text/html": [
       "<div>\n",
       "<style scoped>\n",
       "    .dataframe tbody tr th:only-of-type {\n",
       "        vertical-align: middle;\n",
       "    }\n",
       "\n",
       "    .dataframe tbody tr th {\n",
       "        vertical-align: top;\n",
       "    }\n",
       "\n",
       "    .dataframe thead th {\n",
       "        text-align: right;\n",
       "    }\n",
       "</style>\n",
       "<table border=\"1\" class=\"dataframe\">\n",
       "  <thead>\n",
       "    <tr style=\"text-align: right;\">\n",
       "      <th></th>\n",
       "      <th>epoch</th>\n",
       "      <th>slot</th>\n",
       "      <th>global_slot</th>\n",
       "      <th>block</th>\n",
       "      <th>winner_exists</th>\n",
       "      <th>saw_my_producer</th>\n",
       "      <th>bp_won</th>\n",
       "      <th>block_time</th>\n",
       "      <th>received_time</th>\n",
       "      <th>winner_pk</th>\n",
       "      <th>super_charged</th>\n",
       "      <th>block_height_equal</th>\n",
       "      <th>too_late</th>\n",
       "      <th>min_bt</th>\n",
       "      <th>min_bt_minutes</th>\n",
       "      <th>outcome</th>\n",
       "      <th>next_block_in</th>\n",
       "    </tr>\n",
       "  </thead>\n",
       "  <tbody>\n",
       "    <tr>\n",
       "      <th>25</th>\n",
       "      <td>22</td>\n",
       "      <td>4975</td>\n",
       "      <td>162055</td>\n",
       "      <td>False</td>\n",
       "      <td>False</td>\n",
       "      <td>True</td>\n",
       "      <td>False</td>\n",
       "      <td>[0 days 00:09:55.042000]</td>\n",
       "      <td>NaT</td>\n",
       "      <td>B62qpiyGNhmLJ6JmBUqTaNJgHwkRkjQJ3PzarAmHfn5JmE...</td>\n",
       "      <td>False</td>\n",
       "      <td>False</td>\n",
       "      <td>True</td>\n",
       "      <td>0 days 00:09:55.042000</td>\n",
       "      <td>9.916667</td>\n",
       "      <td>MISSED_TOO_LATE</td>\n",
       "      <td>NaN</td>\n",
       "    </tr>\n",
       "  </tbody>\n",
       "</table>\n",
       "</div>"
      ],
      "text/plain": [
       "    epoch  slot  global_slot  block  winner_exists  saw_my_producer  bp_won  \\\n",
       "25     22  4975       162055  False          False             True   False   \n",
       "\n",
       "                  block_time received_time  \\\n",
       "25  [0 days 00:09:55.042000]           NaT   \n",
       "\n",
       "                                            winner_pk  super_charged  \\\n",
       "25  B62qpiyGNhmLJ6JmBUqTaNJgHwkRkjQJ3PzarAmHfn5JmE...          False   \n",
       "\n",
       "    block_height_equal  too_late                 min_bt  min_bt_minutes  \\\n",
       "25               False      True 0 days 00:09:55.042000        9.916667   \n",
       "\n",
       "            outcome  next_block_in  \n",
       "25  MISSED_TOO_LATE            NaN  "
      ]
     },
     "execution_count": 9,
     "metadata": {},
     "output_type": "execute_result"
    }
   ],
   "source": [
    "df[df.outcome == \"MISSED_TOO_LATE\"]"
   ]
  },
  {
   "cell_type": "markdown",
   "id": "ed2b008b",
   "metadata": {},
   "source": [
    "## slot luck\n",
    "try to visualize \"slot luck\"\n"
   ]
  },
  {
   "cell_type": "code",
   "execution_count": 10,
   "id": "83f7b677",
   "metadata": {
    "scrolled": false
   },
   "outputs": [
    {
     "name": "stdout",
     "output_type": "stream",
     "text": [
      "epoch 22 - expected 41 slots - got 35... \n"
     ]
    },
    {
     "data": {
      "image/png": "[encoded data removed]",
      "text/plain": [
       "<Figure size 720x720 with 1 Axes>"
      ]
     },
     "metadata": {},
     "output_type": "display_data"
    },
    {
     "data": {
      "text/plain": [
       "<Figure size 576x360 with 0 Axes>"
      ]
     },
     "metadata": {},
     "output_type": "display_data"
    }
   ],
   "source": [
    "fig, ax = plt.subplots(1, 1, figsize=(10, 10))\n",
    "\n",
    "SLOTS_PER_EPOCH = 7140\n",
    "\n",
    "def get_slot_win_perc(stake, total_currency):\n",
    "    return (1 - ((1 / 4) ** (stake / total_currency)))\n",
    "\n",
    "\n",
    "epoch_data = []\n",
    "\n",
    "total_currency = results['epoch_data']['total_currency']\n",
    "total_staking_balance = results['stakes_df'].balance.sum()\n",
    "\n",
    "slot_win_pct = get_slot_win_perc(\n",
    "    total_staking_balance, total_currency\n",
    ")    \n",
    "expected_blocks_value = slot_win_pct * SLOTS_PER_EPOCH \n",
    "\n",
    "won_blocks = df[(df.epoch == epoch) & (df.outcome == 'WON')].block.count()\n",
    "slots_won = df[(df.epoch == epoch)].slot.nunique()\n",
    "\n",
    "data = binom.rvs(n=SLOTS_PER_EPOCH, p=slot_win_pct, size=100000)\n",
    "\n",
    "k = np.arange(int(expected_blocks_value - 50), int(expected_blocks_value) + 50, 1)\n",
    "\n",
    "plt.figure(epoch)\n",
    "\n",
    "sns.histplot(data, kde=True, bins=k, ax=ax)\n",
    "ax.axvline(slots_won, 0, 1, color=\"r\")\n",
    "ax.set_title(f\"epoch {epoch}\")\n",
    "\n",
    "epoch_data.append({\n",
    "    'epoch': epoch,\n",
    "    'expected_slots': expected_blocks_value,\n",
    "    'expected_slots_binom': binom(SLOTS_PER_EPOCH, slot_win_pct).expect(),\n",
    "    'slot_win_pct': slot_win_pct,\n",
    "    'won_slots': slots_won,\n",
    "    'won_blocks': won_blocks,\n",
    "    'orphan_rate': 1 - (won_blocks/slots_won)\n",
    "})\n",
    "\n",
    "print(f\"epoch {epoch} - expected {round(expected_blocks_value)} slots - got {slots_won}... \")\n",
    "\n",
    "\n",
    "plt.show()"
   ]
  },
  {
   "cell_type": "code",
   "execution_count": 11,
   "id": "a7570509",
   "metadata": {},
   "outputs": [
    {
     "data": {
      "text/html": [
       "<div>\n",
       "<style scoped>\n",
       "    .dataframe tbody tr th:only-of-type {\n",
       "        vertical-align: middle;\n",
       "    }\n",
       "\n",
       "    .dataframe tbody tr th {\n",
       "        vertical-align: top;\n",
       "    }\n",
       "\n",
       "    .dataframe thead th {\n",
       "        text-align: right;\n",
       "    }\n",
       "</style>\n",
       "<table border=\"1\" class=\"dataframe\">\n",
       "  <thead>\n",
       "    <tr style=\"text-align: right;\">\n",
       "      <th></th>\n",
       "      <th>epoch</th>\n",
       "      <th>expected_slots</th>\n",
       "      <th>expected_slots_binom</th>\n",
       "      <th>slot_win_pct</th>\n",
       "      <th>won_slots</th>\n",
       "      <th>won_blocks</th>\n",
       "      <th>orphan_rate</th>\n",
       "      <th>cdf</th>\n",
       "    </tr>\n",
       "  </thead>\n",
       "  <tbody>\n",
       "    <tr>\n",
       "      <th>0</th>\n",
       "      <td>22</td>\n",
       "      <td>41.06613</td>\n",
       "      <td>41.06613</td>\n",
       "      <td>0.005752</td>\n",
       "      <td>35</td>\n",
       "      <td>27</td>\n",
       "      <td>0.228571</td>\n",
       "      <td>0.193422</td>\n",
       "    </tr>\n",
       "  </tbody>\n",
       "</table>\n",
       "</div>"
      ],
      "text/plain": [
       "   epoch  expected_slots  expected_slots_binom  slot_win_pct  won_slots  \\\n",
       "0     22        41.06613              41.06613      0.005752         35   \n",
       "\n",
       "   won_blocks  orphan_rate       cdf  \n",
       "0          27     0.228571  0.193422  "
      ]
     },
     "execution_count": 11,
     "metadata": {},
     "output_type": "execute_result"
    }
   ],
   "source": [
    "epoch_slots_df = pd.DataFrame(epoch_data)\n",
    "\n",
    "epoch_slots_df[\"cdf\"] = epoch_slots_df.apply(\n",
    "    lambda row: binom.cdf(row[\"won_slots\"], SLOTS_PER_EPOCH, row[\"slot_win_pct\"]),\n",
    "    axis=1,\n",
    ")\n",
    "epoch_slots_df"
   ]
  }
 ],
 "metadata": {
  "interpreter": {
   "hash": "491a9dd2f197f48e68b960002e7efd1291705a2417abdbcfaba001ec3c58d3dc"
  },
  "kernelspec": {
   "display_name": "Python 3.9.12 ('.venv': venv)",
   "language": "python",
   "name": "python3"
  },
  "language_info": {
   "codemirror_mode": {
    "name": "ipython",
    "version": 3
   },
   "file_extension": ".py",
   "mimetype": "text/x-python",
   "name": "python",
   "nbconvert_exporter": "python",
   "pygments_lexer": "ipython3",
   "version": "3.9.12"
  },
  "vscode": {
   "interpreter": {
    "hash": "110cc1dee26208153f2972f08a2ad52b6a56238dc66d48e87fb757ef2996db56"
   }
  }
 },
 "nbformat": 4,
 "nbformat_minor": 5
}
